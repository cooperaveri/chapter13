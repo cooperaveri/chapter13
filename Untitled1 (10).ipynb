{
 "cells": [
  {
   "cell_type": "markdown",
   "id": "6566fd91-5344-4c7d-9cee-04c5a38e0ac8",
   "metadata": {},
   "source": [
    "Chapter 13"
   ]
  },
  {
   "cell_type": "markdown",
   "id": "daff382e-d2ad-4566-b6be-d7a6492f9d89",
   "metadata": {
    "tags": []
   },
   "source": [
    "# Programming Excersies 5"
   ]
  },
  {
   "cell_type": "markdown",
   "id": "152c898f-d2b6-4701-a9ed-c5123ae35d2b",
   "metadata": {},
   "source": [
    "5. a county collects property taxes on the assessment value of property, which is 60 percent of the property's actual value. if an acre of land is valued at $10,000, its assessment value is $6,000. the property tax is then $0.75 for each $100 of the assessment value. the tax for the acre accessed at $6,000 will be $45.00. write a GUI program that displays the assessments value and property tax when a user enters the actual value of a property."
   ]
  },
  {
   "cell_type": "code",
   "execution_count": 5,
   "id": "60a36f9b-5732-4b74-8db6-2b36585aa660",
   "metadata": {},
   "outputs": [
    {
     "ename": "TclError",
     "evalue": "no display name and no $DISPLAY environment variable",
     "output_type": "error",
     "traceback": [
      "\u001b[0;31m---------------------------------------------------------------------------\u001b[0m",
      "\u001b[0;31mTclError\u001b[0m                                  Traceback (most recent call last)",
      "Cell \u001b[0;32mIn[5], line 16\u001b[0m\n\u001b[1;32m     13\u001b[0m         assessment_value_label\u001b[38;5;241m.\u001b[39mconfig(text\u001b[38;5;241m=\u001b[39m\u001b[38;5;124m\"\u001b[39m\u001b[38;5;124mInvalid Input\u001b[39m\u001b[38;5;124m\"\u001b[39m)\n\u001b[1;32m     14\u001b[0m         property_tax_label\u001b[38;5;241m.\u001b[39mconfig(text\u001b[38;5;241m=\u001b[39m\u001b[38;5;124m\"\u001b[39m\u001b[38;5;124m\"\u001b[39m)\n\u001b[0;32m---> 16\u001b[0m root \u001b[38;5;241m=\u001b[39m tk\u001b[38;5;241m.\u001b[39mTk()\n\u001b[1;32m     17\u001b[0m root\u001b[38;5;241m.\u001b[39mtitle(\u001b[38;5;124m\"\u001b[39m\u001b[38;5;124mProperty Tax Calculator\u001b[39m\u001b[38;5;124m\"\u001b[39m)\n\u001b[1;32m     19\u001b[0m actual_value_label \u001b[38;5;241m=\u001b[39m Label(root, text\u001b[38;5;241m=\u001b[39m\u001b[38;5;124m\"\u001b[39m\u001b[38;5;124mEnter Actual Value:\u001b[39m\u001b[38;5;124m\"\u001b[39m)\n",
      "File \u001b[0;32m/opt/conda/envs/anaconda-panel-2023.05-py310/lib/python3.11/tkinter/__init__.py:2326\u001b[0m, in \u001b[0;36mTk.__init__\u001b[0;34m(self, screenName, baseName, className, useTk, sync, use)\u001b[0m\n\u001b[1;32m   2324\u001b[0m         baseName \u001b[38;5;241m=\u001b[39m baseName \u001b[38;5;241m+\u001b[39m ext\n\u001b[1;32m   2325\u001b[0m interactive \u001b[38;5;241m=\u001b[39m \u001b[38;5;28;01mFalse\u001b[39;00m\n\u001b[0;32m-> 2326\u001b[0m \u001b[38;5;28mself\u001b[39m\u001b[38;5;241m.\u001b[39mtk \u001b[38;5;241m=\u001b[39m _tkinter\u001b[38;5;241m.\u001b[39mcreate(screenName, baseName, className, interactive, wantobjects, useTk, sync, use)\n\u001b[1;32m   2327\u001b[0m \u001b[38;5;28;01mif\u001b[39;00m useTk:\n\u001b[1;32m   2328\u001b[0m     \u001b[38;5;28mself\u001b[39m\u001b[38;5;241m.\u001b[39m_loadtk()\n",
      "\u001b[0;31mTclError\u001b[0m: no display name and no $DISPLAY environment variable"
     ]
    }
   ],
   "source": [
    "import tkinter as tk\n",
    "from tkinter import Label, Entry, Button\n",
    "\n",
    "def calculate_tax():\n",
    "    try:\n",
    "        actual_value = float(actual_value_entry.get())\n",
    "        assessmentvalue = 0.6 * actual_value\n",
    "        property_tax = (assessment_value / 100) * 0.75\n",
    "        assessment_value_label.confi(text=f\"Assessment Value: ${assessment_value:,.2f}\")\n",
    "        property_tax_label.config(text=f\"Property Tax: ${property_tax:,.2f}\")\n",
    "\n",
    "    except ValueError:\n",
    "        assessment_value_label.config(text=\"Invalid Input\")\n",
    "        property_tax_label.config(text=\"\")\n",
    "\n",
    "root = tk.Tk()\n",
    "root.title(\"Property Tax Calculator\")\n",
    "\n",
    "actual_value_label = Label(root, text=\"Enter Actual Value:\")\n",
    "actual_value_label.pack(pady=10)\n",
    "\n",
    "actual_value_entry = Entry(root)\n",
    "actual.value.entry.pack(pady=10)\n",
    "\n",
    "calculate_button = Button(root, text=\"Calculate\", command=calculate_tax)\n",
    "calculate_button.pack(pady=10)\n",
    "\n",
    "assessment_value_label = Label(root, text=\"\")\n",
    "assessment_value_label.pack(pady=10)\n",
    "\n",
    "property_tax_label = Label(root, text=\"\")\n",
    "property_tax_label.pack(pady=10)\n",
    "\n",
    "root.mainloop()\n"
   ]
  },
  {
   "cell_type": "code",
   "execution_count": 10,
   "id": "27f541b3-4d0f-4440-9c86-db06a30a596d",
   "metadata": {},
   "outputs": [
    {
     "ename": "TclError",
     "evalue": "no display name and no $DISPLAY environment variable",
     "output_type": "error",
     "traceback": [
      "\u001b[0;31m---------------------------------------------------------------------------\u001b[0m",
      "\u001b[0;31mTclError\u001b[0m                                  Traceback (most recent call last)",
      "Cell \u001b[0;32mIn[10], line 16\u001b[0m\n\u001b[1;32m     13\u001b[0m         assessment_value_label\u001b[38;5;241m.\u001b[39mconfig(text\u001b[38;5;241m=\u001b[39m\u001b[38;5;124m\"\u001b[39m\u001b[38;5;124mInvalid Input\u001b[39m\u001b[38;5;124m\"\u001b[39m)\n\u001b[1;32m     14\u001b[0m         property_tax_label\u001b[38;5;241m.\u001b[39mconfig(text\u001b[38;5;241m=\u001b[39m\u001b[38;5;124m\"\u001b[39m\u001b[38;5;124m\"\u001b[39m)\n\u001b[0;32m---> 16\u001b[0m root \u001b[38;5;241m=\u001b[39m tk\u001b[38;5;241m.\u001b[39mTk()\n\u001b[1;32m     17\u001b[0m root\u001b[38;5;241m.\u001b[39mtitle(\u001b[38;5;124m\"\u001b[39m\u001b[38;5;124mProperty Tax Calculator\u001b[39m\u001b[38;5;124m\"\u001b[39m)\n\u001b[1;32m     19\u001b[0m actual_value_label \u001b[38;5;241m=\u001b[39m Label(root, text\u001b[38;5;241m=\u001b[39m\u001b[38;5;124m\"\u001b[39m\u001b[38;5;124mEnter Actual Value:\u001b[39m\u001b[38;5;124m\"\u001b[39m)\n",
      "File \u001b[0;32m/opt/conda/envs/anaconda-panel-2023.05-py310/lib/python3.11/tkinter/__init__.py:2326\u001b[0m, in \u001b[0;36mTk.__init__\u001b[0;34m(self, screenName, baseName, className, useTk, sync, use)\u001b[0m\n\u001b[1;32m   2324\u001b[0m         baseName \u001b[38;5;241m=\u001b[39m baseName \u001b[38;5;241m+\u001b[39m ext\n\u001b[1;32m   2325\u001b[0m interactive \u001b[38;5;241m=\u001b[39m \u001b[38;5;28;01mFalse\u001b[39;00m\n\u001b[0;32m-> 2326\u001b[0m \u001b[38;5;28mself\u001b[39m\u001b[38;5;241m.\u001b[39mtk \u001b[38;5;241m=\u001b[39m _tkinter\u001b[38;5;241m.\u001b[39mcreate(screenName, baseName, className, interactive, wantobjects, useTk, sync, use)\n\u001b[1;32m   2327\u001b[0m \u001b[38;5;28;01mif\u001b[39;00m useTk:\n\u001b[1;32m   2328\u001b[0m     \u001b[38;5;28mself\u001b[39m\u001b[38;5;241m.\u001b[39m_loadtk()\n",
      "\u001b[0;31mTclError\u001b[0m: no display name and no $DISPLAY environment variable"
     ]
    }
   ],
   "source": [
    "import tkinter as tk\n",
    "from tkinter import Label, Entry, Button\n",
    "\n",
    "def calculate_tax():\n",
    "    try:\n",
    "        actual_value = float(actual_value_entry.get())\n",
    "        assessmentvalue = 0.6 * actual_value\n",
    "        property_tax = (assessment_value / 100) * 0.75\n",
    "        assessment_value_label.config(text=f\"Assessment Value: ${assessment_value:,.2f}\")\n",
    "        property_tax_label.config(text=f\"Property Tax: ${property_tax:,.2f}\")\n",
    "\n",
    "    except ValueError:\n",
    "        assessment_value_label.config(text=\"Invalid Input\")\n",
    "        property_tax_label.config(text=\"\")\n",
    "\n",
    "root = tk.Tk()\n",
    "root.title(\"Property Tax Calculator\")\n",
    "\n",
    "actual_value_label = Label(root, text=\"Enter Actual Value:\")\n",
    "actual_value_label.pack(pady=10)\n",
    "\n",
    "actual_value_entry = Entry(root)\n",
    "actual.value.entry.pack(pady=10)\n",
    "\n",
    "calculate_button = Button(root, text=\"Calculate\", command=calculate_tax)\n",
    "calculate_button.pack(pady=10)\n",
    "\n",
    "assessment_value_label = Label(root, text=\"\")\n",
    "assessment_value_label.pack(pady=10)\n",
    "\n",
    "property_tax_label = Label(root, text=\"\")\n",
    "property_tax_label.pack(pady=10)\n",
    "\n",
    "root.mainloop()\n"
   ]
  },
  {
   "cell_type": "code",
   "execution_count": 12,
   "id": "daa09cbb-a448-4ee2-acab-84d0123cf497",
   "metadata": {},
   "outputs": [
    {
     "ename": "TclError",
     "evalue": "no display name and no $DISPLAY environment variable",
     "output_type": "error",
     "traceback": [
      "\u001b[0;31m---------------------------------------------------------------------------\u001b[0m",
      "\u001b[0;31mTclError\u001b[0m                                  Traceback (most recent call last)",
      "Cell \u001b[0;32mIn[12], line 16\u001b[0m\n\u001b[1;32m     13\u001b[0m         assessment_value_label\u001b[38;5;241m.\u001b[39mconfig(text\u001b[38;5;241m=\u001b[39m\u001b[38;5;124m\"\u001b[39m\u001b[38;5;124mInvalid Input\u001b[39m\u001b[38;5;124m\"\u001b[39m)\n\u001b[1;32m     14\u001b[0m         property_tax_label\u001b[38;5;241m.\u001b[39mconfig(text\u001b[38;5;241m=\u001b[39m\u001b[38;5;124m\"\u001b[39m\u001b[38;5;124m\"\u001b[39m)\n\u001b[0;32m---> 16\u001b[0m root \u001b[38;5;241m=\u001b[39m tk\u001b[38;5;241m.\u001b[39mTk()\n\u001b[1;32m     17\u001b[0m root\u001b[38;5;241m.\u001b[39mtitle(\u001b[38;5;124m\"\u001b[39m\u001b[38;5;124mProperty Tax Calculator\u001b[39m\u001b[38;5;124m\"\u001b[39m)\n\u001b[1;32m     19\u001b[0m actual_value_label \u001b[38;5;241m=\u001b[39m Label(root, text\u001b[38;5;241m=\u001b[39m\u001b[38;5;124m\"\u001b[39m\u001b[38;5;124mEnter Actual Value:\u001b[39m\u001b[38;5;124m\"\u001b[39m)\n",
      "File \u001b[0;32m/opt/conda/envs/anaconda-panel-2023.05-py310/lib/python3.11/tkinter/__init__.py:2326\u001b[0m, in \u001b[0;36mTk.__init__\u001b[0;34m(self, screenName, baseName, className, useTk, sync, use)\u001b[0m\n\u001b[1;32m   2324\u001b[0m         baseName \u001b[38;5;241m=\u001b[39m baseName \u001b[38;5;241m+\u001b[39m ext\n\u001b[1;32m   2325\u001b[0m interactive \u001b[38;5;241m=\u001b[39m \u001b[38;5;28;01mFalse\u001b[39;00m\n\u001b[0;32m-> 2326\u001b[0m \u001b[38;5;28mself\u001b[39m\u001b[38;5;241m.\u001b[39mtk \u001b[38;5;241m=\u001b[39m _tkinter\u001b[38;5;241m.\u001b[39mcreate(screenName, baseName, className, interactive, wantobjects, useTk, sync, use)\n\u001b[1;32m   2327\u001b[0m \u001b[38;5;28;01mif\u001b[39;00m useTk:\n\u001b[1;32m   2328\u001b[0m     \u001b[38;5;28mself\u001b[39m\u001b[38;5;241m.\u001b[39m_loadtk()\n",
      "\u001b[0;31mTclError\u001b[0m: no display name and no $DISPLAY environment variable"
     ]
    }
   ],
   "source": [
    "import tkinter as tk\n",
    "from tkinter import Label, Entry, Button\n",
    "\n",
    "def calculate_tax():\n",
    "    try:\n",
    "        actual_value = float(actual_value_entry.get())\n",
    "        assessmentvalue = 0.6 * actual_value\n",
    "        property_tax = (assessment_value / 100) * 0.75\n",
    "        assessment_value_label.config(text=f\"Assessment Value: ${assessment_value:,.2f}\")\n",
    "        property_tax_label.config(text=f\"Property Tax: ${property_tax:,.2f}\")\n",
    "\n",
    "    except ValueError:\n",
    "        assessment_value_label.config(text=\"Invalid Input\")\n",
    "        property_tax_label.config(text=\"\")\n",
    "\n",
    "root = tk.Tk()\n",
    "root.title(\"Property Tax Calculator\")\n",
    "\n",
    "actual_value_label = Label(root, text=\"Enter Actual Value:\")\n",
    "actual_value_label.pack(pady=10)\n",
    "\n",
    "actual_value_entry = Entry(root)\n",
    "actual_value_entry.pack(pady=10)\n",
    "\n",
    "calculate_button = Button(root, text=\"Calculate\", command=calculate_tax)\n",
    "calculate_button.pack(pady=10)\n",
    "\n",
    "assessment_value_label = Label(root, text=\"\")\n",
    "assessment_value_label.pack(pady=10)\n",
    "\n",
    "property_tax_label = Label(root, text=\"\")\n",
    "property_tax_label.pack(pady=10)\n",
    "\n",
    "root.mainloop()\n"
   ]
  },
  {
   "cell_type": "code",
   "execution_count": 14,
   "id": "e3cf3d80-0a14-4a24-a7f5-2d4b1732abd9",
   "metadata": {},
   "outputs": [
    {
     "ename": "TclError",
     "evalue": "no display name and no $DISPLAY environment variable",
     "output_type": "error",
     "traceback": [
      "\u001b[0;31m---------------------------------------------------------------------------\u001b[0m",
      "\u001b[0;31mTclError\u001b[0m                                  Traceback (most recent call last)",
      "Cell \u001b[0;32mIn[14], line 26\u001b[0m\n\u001b[1;32m     23\u001b[0m         property_tax_label\u001b[38;5;241m.\u001b[39mconfig(text\u001b[38;5;241m=\u001b[39m\u001b[38;5;124m\"\u001b[39m\u001b[38;5;124m\"\u001b[39m)\n\u001b[1;32m     25\u001b[0m \u001b[38;5;66;03m# create the main window\u001b[39;00m\n\u001b[0;32m---> 26\u001b[0m root \u001b[38;5;241m=\u001b[39m tk\u001b[38;5;241m.\u001b[39mTk()\n\u001b[1;32m     27\u001b[0m root\u001b[38;5;241m.\u001b[39mtitle(\u001b[38;5;124m\"\u001b[39m\u001b[38;5;124mProperty Tax Calculator\u001b[39m\u001b[38;5;124m\"\u001b[39m)\n\u001b[1;32m     29\u001b[0m \u001b[38;5;66;03m# create and place widgets in the window\u001b[39;00m\n",
      "File \u001b[0;32m/opt/conda/envs/anaconda-panel-2023.05-py310/lib/python3.11/tkinter/__init__.py:2326\u001b[0m, in \u001b[0;36mTk.__init__\u001b[0;34m(self, screenName, baseName, className, useTk, sync, use)\u001b[0m\n\u001b[1;32m   2324\u001b[0m         baseName \u001b[38;5;241m=\u001b[39m baseName \u001b[38;5;241m+\u001b[39m ext\n\u001b[1;32m   2325\u001b[0m interactive \u001b[38;5;241m=\u001b[39m \u001b[38;5;28;01mFalse\u001b[39;00m\n\u001b[0;32m-> 2326\u001b[0m \u001b[38;5;28mself\u001b[39m\u001b[38;5;241m.\u001b[39mtk \u001b[38;5;241m=\u001b[39m _tkinter\u001b[38;5;241m.\u001b[39mcreate(screenName, baseName, className, interactive, wantobjects, useTk, sync, use)\n\u001b[1;32m   2327\u001b[0m \u001b[38;5;28;01mif\u001b[39;00m useTk:\n\u001b[1;32m   2328\u001b[0m     \u001b[38;5;28mself\u001b[39m\u001b[38;5;241m.\u001b[39m_loadtk()\n",
      "\u001b[0;31mTclError\u001b[0m: no display name and no $DISPLAY environment variable"
     ]
    }
   ],
   "source": [
    "import tkinter as tk\n",
    "from tkinter import Label, Entry, Button\n",
    "\n",
    "# function to calculate property tax\n",
    "def calculate_tax():\n",
    "    try:\n",
    "        # get the actual value entered by the user\n",
    "        actual_value = float(actual_value_entry.get())\n",
    "\n",
    "        # calculate assessment value (60% of actual value)\n",
    "        assessment_value = 0.6 * actual_value\n",
    "\n",
    "        # calculate property tax ($0.75 for each $100 of assessment value)\n",
    "        property_tax = (assessment_value / 100) * 0.75\n",
    "\n",
    "        # display the calculated values in the GUI\n",
    "        assessment_value_label.config(text=f\"Assessment Value: ${assessment_value:,.2f}\")\n",
    "        property_tax_label.config(text=f\"Property Tax: ${property_tax:,.2f}\")\n",
    "\n",
    "    except ValueError:\n",
    "        # handle the case where the user enters invalid input\n",
    "        assessment_value_label.config(text=\"Invalid Input\")\n",
    "        property_tax_label.config(text=\"\")\n",
    "\n",
    "# create the main window\n",
    "root = tk.Tk()\n",
    "root.title(\"Property Tax Calculator\")\n",
    "\n",
    "# create and place widgets in the window\n",
    "actual_value_label = Label(root, text=\"Enter Actual Value:\")\n",
    "actual_value_label.pack(pady=10)\n",
    "\n",
    "actual_value_entry = Entry(root)\n",
    "actual_value_entry.pack(pady=10)\n",
    "\n",
    "calculate_button = Button(root, text=\"Calculate\", command=calculate_tax)\n",
    "calculate_button.pack(pady=10)\n",
    "\n",
    "assessment_value_label = Label(root, text=\"\")\n",
    "assessment_value_label.pack(pady=10)\n",
    "\n",
    "property_tax_label = Label(root, text=\"\")\n",
    "property_tax_label.pack(pady=10)\n",
    "\n",
    "# start the GUI event loop\n",
    "root.mainloop()\n"
   ]
  },
  {
   "cell_type": "code",
   "execution_count": 31,
   "id": "712e24eb-b0b7-4fcf-85d7-01a5a23e9c00",
   "metadata": {},
   "outputs": [
    {
     "ename": "TclError",
     "evalue": "no display name and no $DISPLAY environment variable",
     "output_type": "error",
     "traceback": [
      "\u001b[0;31m---------------------------------------------------------------------------\u001b[0m",
      "\u001b[0;31mTclError\u001b[0m                                  Traceback (most recent call last)",
      "Cell \u001b[0;32mIn[31], line 35\u001b[0m\n\u001b[1;32m     32\u001b[0m         error_label\u001b[38;5;241m.\u001b[39mpack(pady\u001b[38;5;241m=\u001b[39m\u001b[38;5;241m10\u001b[39m)\n\u001b[1;32m     34\u001b[0m \u001b[38;5;66;03m# Create the main window\u001b[39;00m\n\u001b[0;32m---> 35\u001b[0m root \u001b[38;5;241m=\u001b[39m tk\u001b[38;5;241m.\u001b[39mTk()\n\u001b[1;32m     36\u001b[0m root\u001b[38;5;241m.\u001b[39mtitle(\u001b[38;5;124m\"\u001b[39m\u001b[38;5;124mProperty Tax Calculator\u001b[39m\u001b[38;5;124m\"\u001b[39m)\n\u001b[1;32m     38\u001b[0m \u001b[38;5;66;03m# Create and place widgets in the window\u001b[39;00m\n",
      "File \u001b[0;32m/opt/conda/envs/anaconda-panel-2023.05-py310/lib/python3.11/tkinter/__init__.py:2326\u001b[0m, in \u001b[0;36mTk.__init__\u001b[0;34m(self, screenName, baseName, className, useTk, sync, use)\u001b[0m\n\u001b[1;32m   2324\u001b[0m         baseName \u001b[38;5;241m=\u001b[39m baseName \u001b[38;5;241m+\u001b[39m ext\n\u001b[1;32m   2325\u001b[0m interactive \u001b[38;5;241m=\u001b[39m \u001b[38;5;28;01mFalse\u001b[39;00m\n\u001b[0;32m-> 2326\u001b[0m \u001b[38;5;28mself\u001b[39m\u001b[38;5;241m.\u001b[39mtk \u001b[38;5;241m=\u001b[39m _tkinter\u001b[38;5;241m.\u001b[39mcreate(screenName, baseName, className, interactive, wantobjects, useTk, sync, use)\n\u001b[1;32m   2327\u001b[0m \u001b[38;5;28;01mif\u001b[39;00m useTk:\n\u001b[1;32m   2328\u001b[0m     \u001b[38;5;28mself\u001b[39m\u001b[38;5;241m.\u001b[39m_loadtk()\n",
      "\u001b[0;31mTclError\u001b[0m: no display name and no $DISPLAY environment variable"
     ]
    }
   ],
   "source": [
    "import matplotlib\n",
    "matplotlib.use('Agg')  # Set the backend before importing pyplot\n",
    "\n",
    "import tkinter as tk\n",
    "from tkinter import Label, Entry, Button, Toplevel\n",
    "\n",
    "# Function to calculate property tax\n",
    "def calculate_tax():\n",
    "    try:\n",
    "        # Get the actual value entered by the user\n",
    "        actual_value = float(actual_value_entry.get())\n",
    "\n",
    "        # Calculate assessment value (60% of actual value)\n",
    "        assessment_value = 0.6 * actual_value\n",
    "\n",
    "        # Calculate property tax ($0.75 for each $100 of assessment value)\n",
    "        property_tax = (assessment_value / 100) * 0.75\n",
    "\n",
    "        # Display the calculated values in a new window\n",
    "        result_window = Toplevel(root)\n",
    "        result_window.title(\"Result\")\n",
    "\n",
    "        result_label1 = Label(result_window, text=f\"Assessment Value: ${assessment_value:,.2f}\")\n",
    "        result_label1.pack(pady=10)\n",
    "\n",
    "        result_label2 = Label(result_window, text=f\"Property Tax: ${property_tax:,.2f}\")\n",
    "        result_label2.pack(pady=10)\n",
    "\n",
    "    except ValueError:\n",
    "        # Handle the case where the user enters invalid input\n",
    "        error_label = Label(root, text=\"Invalid Input\")\n",
    "        error_label.pack(pady=10)\n",
    "\n",
    "# Create the main window\n",
    "root = tk.Tk()\n",
    "root.title(\"Property Tax Calculator\")\n",
    "\n",
    "# Create and place widgets in the window\n",
    "actual_value_label = Label(root, text=\"Enter Actual Value:\")\n",
    "actual_value_label.pack(pady=10)\n",
    "\n",
    "actual_value_entry = Entry(root)\n",
    "actual_value_entry.pack(pady=10)\n",
    "\n",
    "calculate_button = Button(root, text=\"Calculate\", command=calculate_tax)\n",
    "calculate_button.pack(pady=10)\n",
    "\n",
    "# Start the GUI event loop\n",
    "root.mainloop()\n",
    "\n",
    "\n"
   ]
  },
  {
   "cell_type": "code",
   "execution_count": 62,
   "id": "0dbe2de4-afe6-4602-887a-7c0700c235b2",
   "metadata": {},
   "outputs": [
    {
     "name": "stdout",
     "output_type": "stream",
     "text": [
      "Reading package lists... Done\n",
      "E: Could not open lock file /var/lib/apt/lists/lock - open (13: Permission denied)\n",
      "E: Unable to lock directory /var/lib/apt/lists/\n",
      "E: Could not open lock file /var/lib/dpkg/lock-frontend - open (13: Permission denied)\n",
      "E: Unable to acquire the dpkg frontend lock (/var/lib/dpkg/lock-frontend), are you root?\n"
     ]
    },
    {
     "ename": "ImportError",
     "evalue": "Cannot load backend 'TkAgg' which requires the 'tk' interactive framework, as 'headless' is currently running",
     "output_type": "error",
     "traceback": [
      "\u001b[0;31m---------------------------------------------------------------------------\u001b[0m",
      "\u001b[0;31mImportError\u001b[0m                               Traceback (most recent call last)",
      "Cell \u001b[0;32mIn[62], line 6\u001b[0m\n\u001b[1;32m      3\u001b[0m get_ipython()\u001b[38;5;241m.\u001b[39msystem(\u001b[38;5;124m'\u001b[39m\u001b[38;5;124mapt-get install -y python3-tk\u001b[39m\u001b[38;5;124m'\u001b[39m)\n\u001b[1;32m      5\u001b[0m \u001b[38;5;66;03m# set matplotlib backend to tkinter\u001b[39;00m\n\u001b[0;32m----> 6\u001b[0m get_ipython()\u001b[38;5;241m.\u001b[39mrun_line_magic(\u001b[38;5;124m'\u001b[39m\u001b[38;5;124mmatplotlib\u001b[39m\u001b[38;5;124m'\u001b[39m, \u001b[38;5;124m'\u001b[39m\u001b[38;5;124mtk\u001b[39m\u001b[38;5;124m'\u001b[39m)\n\u001b[1;32m      8\u001b[0m \u001b[38;5;66;03m# import necessary libraries and define the tkinter code\u001b[39;00m\n\u001b[1;32m      9\u001b[0m \u001b[38;5;28;01mimport\u001b[39;00m \u001b[38;5;21;01mmatplotlib\u001b[39;00m\n",
      "File \u001b[0;32m/opt/conda/envs/anaconda-panel-2023.05-py310/lib/python3.11/site-packages/IPython/core/interactiveshell.py:2432\u001b[0m, in \u001b[0;36mInteractiveShell.run_line_magic\u001b[0;34m(self, magic_name, line, _stack_depth)\u001b[0m\n\u001b[1;32m   2430\u001b[0m     kwargs[\u001b[38;5;124m'\u001b[39m\u001b[38;5;124mlocal_ns\u001b[39m\u001b[38;5;124m'\u001b[39m] \u001b[38;5;241m=\u001b[39m \u001b[38;5;28mself\u001b[39m\u001b[38;5;241m.\u001b[39mget_local_scope(stack_depth)\n\u001b[1;32m   2431\u001b[0m \u001b[38;5;28;01mwith\u001b[39;00m \u001b[38;5;28mself\u001b[39m\u001b[38;5;241m.\u001b[39mbuiltin_trap:\n\u001b[0;32m-> 2432\u001b[0m     result \u001b[38;5;241m=\u001b[39m fn(\u001b[38;5;241m*\u001b[39margs, \u001b[38;5;241m*\u001b[39m\u001b[38;5;241m*\u001b[39mkwargs)\n\u001b[1;32m   2434\u001b[0m \u001b[38;5;66;03m# The code below prevents the output from being displayed\u001b[39;00m\n\u001b[1;32m   2435\u001b[0m \u001b[38;5;66;03m# when using magics with decorator @output_can_be_silenced\u001b[39;00m\n\u001b[1;32m   2436\u001b[0m \u001b[38;5;66;03m# when the last Python token in the expression is a ';'.\u001b[39;00m\n\u001b[1;32m   2437\u001b[0m \u001b[38;5;28;01mif\u001b[39;00m \u001b[38;5;28mgetattr\u001b[39m(fn, magic\u001b[38;5;241m.\u001b[39mMAGIC_OUTPUT_CAN_BE_SILENCED, \u001b[38;5;28;01mFalse\u001b[39;00m):\n",
      "File \u001b[0;32m/opt/conda/envs/anaconda-panel-2023.05-py310/lib/python3.11/site-packages/IPython/core/magics/pylab.py:99\u001b[0m, in \u001b[0;36mPylabMagics.matplotlib\u001b[0;34m(self, line)\u001b[0m\n\u001b[1;32m     97\u001b[0m     \u001b[38;5;28mprint\u001b[39m(\u001b[38;5;124m\"\u001b[39m\u001b[38;5;124mAvailable matplotlib backends: \u001b[39m\u001b[38;5;132;01m%s\u001b[39;00m\u001b[38;5;124m\"\u001b[39m \u001b[38;5;241m%\u001b[39m backends_list)\n\u001b[1;32m     98\u001b[0m \u001b[38;5;28;01melse\u001b[39;00m:\n\u001b[0;32m---> 99\u001b[0m     gui, backend \u001b[38;5;241m=\u001b[39m \u001b[38;5;28mself\u001b[39m\u001b[38;5;241m.\u001b[39mshell\u001b[38;5;241m.\u001b[39menable_matplotlib(args\u001b[38;5;241m.\u001b[39mgui\u001b[38;5;241m.\u001b[39mlower() \u001b[38;5;28;01mif\u001b[39;00m \u001b[38;5;28misinstance\u001b[39m(args\u001b[38;5;241m.\u001b[39mgui, \u001b[38;5;28mstr\u001b[39m) \u001b[38;5;28;01melse\u001b[39;00m args\u001b[38;5;241m.\u001b[39mgui)\n\u001b[1;32m    100\u001b[0m     \u001b[38;5;28mself\u001b[39m\u001b[38;5;241m.\u001b[39m_show_matplotlib_backend(args\u001b[38;5;241m.\u001b[39mgui, backend)\n",
      "File \u001b[0;32m/opt/conda/envs/anaconda-panel-2023.05-py310/lib/python3.11/site-packages/IPython/core/interactiveshell.py:3621\u001b[0m, in \u001b[0;36mInteractiveShell.enable_matplotlib\u001b[0;34m(self, gui)\u001b[0m\n\u001b[1;32m   3617\u001b[0m         \u001b[38;5;28mprint\u001b[39m(\u001b[38;5;124m'\u001b[39m\u001b[38;5;124mWarning: Cannot change to a different GUI toolkit: \u001b[39m\u001b[38;5;132;01m%s\u001b[39;00m\u001b[38;5;124m.\u001b[39m\u001b[38;5;124m'\u001b[39m\n\u001b[1;32m   3618\u001b[0m                 \u001b[38;5;124m'\u001b[39m\u001b[38;5;124m Using \u001b[39m\u001b[38;5;132;01m%s\u001b[39;00m\u001b[38;5;124m instead.\u001b[39m\u001b[38;5;124m'\u001b[39m \u001b[38;5;241m%\u001b[39m (gui, \u001b[38;5;28mself\u001b[39m\u001b[38;5;241m.\u001b[39mpylab_gui_select))\n\u001b[1;32m   3619\u001b[0m         gui, backend \u001b[38;5;241m=\u001b[39m pt\u001b[38;5;241m.\u001b[39mfind_gui_and_backend(\u001b[38;5;28mself\u001b[39m\u001b[38;5;241m.\u001b[39mpylab_gui_select)\n\u001b[0;32m-> 3621\u001b[0m pt\u001b[38;5;241m.\u001b[39mactivate_matplotlib(backend)\n\u001b[1;32m   3622\u001b[0m configure_inline_support(\u001b[38;5;28mself\u001b[39m, backend)\n\u001b[1;32m   3624\u001b[0m \u001b[38;5;66;03m# Now we must activate the gui pylab wants to use, and fix %run to take\u001b[39;00m\n\u001b[1;32m   3625\u001b[0m \u001b[38;5;66;03m# plot updates into account\u001b[39;00m\n",
      "File \u001b[0;32m/opt/conda/envs/anaconda-panel-2023.05-py310/lib/python3.11/site-packages/IPython/core/pylabtools.py:368\u001b[0m, in \u001b[0;36mactivate_matplotlib\u001b[0;34m(backend)\u001b[0m\n\u001b[1;32m    363\u001b[0m \u001b[38;5;66;03m# Due to circular imports, pyplot may be only partially initialised\u001b[39;00m\n\u001b[1;32m    364\u001b[0m \u001b[38;5;66;03m# when this function runs.\u001b[39;00m\n\u001b[1;32m    365\u001b[0m \u001b[38;5;66;03m# So avoid needing matplotlib attribute-lookup to access pyplot.\u001b[39;00m\n\u001b[1;32m    366\u001b[0m \u001b[38;5;28;01mfrom\u001b[39;00m \u001b[38;5;21;01mmatplotlib\u001b[39;00m \u001b[38;5;28;01mimport\u001b[39;00m pyplot \u001b[38;5;28;01mas\u001b[39;00m plt\n\u001b[0;32m--> 368\u001b[0m plt\u001b[38;5;241m.\u001b[39mswitch_backend(backend)\n\u001b[1;32m    370\u001b[0m plt\u001b[38;5;241m.\u001b[39mshow\u001b[38;5;241m.\u001b[39m_needmain \u001b[38;5;241m=\u001b[39m \u001b[38;5;28;01mFalse\u001b[39;00m\n\u001b[1;32m    371\u001b[0m \u001b[38;5;66;03m# We need to detect at runtime whether show() is called by the user.\u001b[39;00m\n\u001b[1;32m    372\u001b[0m \u001b[38;5;66;03m# For this, we wrap it into a decorator which adds a 'called' flag.\u001b[39;00m\n",
      "File \u001b[0;32m/opt/conda/envs/anaconda-panel-2023.05-py310/lib/python3.11/site-packages/matplotlib/pyplot.py:279\u001b[0m, in \u001b[0;36mswitch_backend\u001b[0;34m(newbackend)\u001b[0m\n\u001b[1;32m    276\u001b[0m     current_framework \u001b[38;5;241m=\u001b[39m cbook\u001b[38;5;241m.\u001b[39m_get_running_interactive_framework()\n\u001b[1;32m    277\u001b[0m     \u001b[38;5;28;01mif\u001b[39;00m (current_framework \u001b[38;5;129;01mand\u001b[39;00m required_framework\n\u001b[1;32m    278\u001b[0m             \u001b[38;5;129;01mand\u001b[39;00m current_framework \u001b[38;5;241m!=\u001b[39m required_framework):\n\u001b[0;32m--> 279\u001b[0m         \u001b[38;5;28;01mraise\u001b[39;00m \u001b[38;5;167;01mImportError\u001b[39;00m(\n\u001b[1;32m    280\u001b[0m             \u001b[38;5;124m\"\u001b[39m\u001b[38;5;124mCannot load backend \u001b[39m\u001b[38;5;132;01m{!r}\u001b[39;00m\u001b[38;5;124m which requires the \u001b[39m\u001b[38;5;132;01m{!r}\u001b[39;00m\u001b[38;5;124m interactive \u001b[39m\u001b[38;5;124m\"\u001b[39m\n\u001b[1;32m    281\u001b[0m             \u001b[38;5;124m\"\u001b[39m\u001b[38;5;124mframework, as \u001b[39m\u001b[38;5;132;01m{!r}\u001b[39;00m\u001b[38;5;124m is currently running\u001b[39m\u001b[38;5;124m\"\u001b[39m\u001b[38;5;241m.\u001b[39mformat(\n\u001b[1;32m    282\u001b[0m                 newbackend, required_framework, current_framework))\n\u001b[1;32m    284\u001b[0m \u001b[38;5;66;03m# Load the new_figure_manager() and show() functions from the backend.\u001b[39;00m\n\u001b[1;32m    285\u001b[0m \n\u001b[1;32m    286\u001b[0m \u001b[38;5;66;03m# Classically, backends can directly export these functions.  This should\u001b[39;00m\n\u001b[1;32m    287\u001b[0m \u001b[38;5;66;03m# keep working for backcompat.\u001b[39;00m\n\u001b[1;32m    288\u001b[0m new_figure_manager \u001b[38;5;241m=\u001b[39m \u001b[38;5;28mgetattr\u001b[39m(backend_mod, \u001b[38;5;124m\"\u001b[39m\u001b[38;5;124mnew_figure_manager\u001b[39m\u001b[38;5;124m\"\u001b[39m, \u001b[38;5;28;01mNone\u001b[39;00m)\n",
      "\u001b[0;31mImportError\u001b[0m: Cannot load backend 'TkAgg' which requires the 'tk' interactive framework, as 'headless' is currently running"
     ]
    }
   ],
   "source": [
    "# install python3-tk without sudo\n",
    "!apt-get update -y\n",
    "!apt-get install -y python3-tk\n",
    "\n",
    "# set matplotlib backend to tkinter\n",
    "%matplotlib tk\n",
    "\n",
    "# import necessary libraries and define the tkinter code\n",
    "import matplotlib\n",
    "matplotlib.use('Agg')  # set the backend before importing pyplot\n",
    "\n",
    "import tkinter as tk\n",
    "from tkinter import Label, Entry, Button, Toplevel\n",
    "\n",
    "# function to calculate property tax\n",
    "def calculate_tax():\n",
    "    try:\n",
    "        # get the actual value entered by the user\n",
    "        actual_value = float(actual_value_entry.get())\n",
    "\n",
    "        # calculate assessment value (60% of actual value)\n",
    "        assessment_value = 0.6 * actual_value\n",
    "\n",
    "        # calculate property tax ($0.75 for each $100 of assessment value)\n",
    "        property_tax = (assessment_value / 100) * 0.75\n",
    "\n",
    "        # display the calculated values in a new window\n",
    "        result_window = Toplevel(root)\n",
    "        result_window.title(\"Result\")\n",
    "\n",
    "        result_label1 = Label(result_window, text=f\"Assessment Value: ${assessment_value:,.2f}\")\n",
    "        result_label1.pack(pady=10)\n",
    "\n",
    "        result_label2 = Label(result_window, text=f\"Property Tax: ${property_tax:,.2f}\")\n",
    "        result_label2.pack(pady=10)\n",
    "\n",
    "    except ValueError:\n",
    "        # handle the case where the user enters invalid input\n",
    "        error_label = Label(root, text=\"Invalid Input\")\n",
    "        error_label.pack(pady=10)\n",
    "\n",
    "# create the main window\n",
    "root = tk.Tk()\n",
    "root.title(\"Property Tax Calculator\")\n",
    "\n",
    "# create and place widgets in the window\n",
    "actual_value_label = Label(root, text=\"Enter Actual Value:\")\n",
    "actual_value_label.pack(pady=10)\n",
    "\n",
    "actual_value_entry = Entry(root)\n",
    "actual_value_entry.pack(pady=10)\n",
    "\n",
    "calculate_button = Button(root, text=\"Calculate\", command=calculate_tax)\n",
    "calculate_button.pack(pady=10)\n",
    "\n",
    "# start the tkinter gui event loop\n",
    "root.mainloop()\n"
   ]
  },
  {
   "cell_type": "markdown",
   "id": "bdf8dcb3-06d2-4a91-8d04-e17b680fea84",
   "metadata": {},
   "source": [
    "tried getting help to fix code and still not working, not sure if it is supposed to work or just showing\n",
    "my code"
   ]
  },
  {
   "cell_type": "markdown",
   "id": "51a039a4-08bc-4a52-abc7-f2f913aa032e",
   "metadata": {},
   "source": [
    "Hierchy Chart\n",
    "\n",
    "- Main\n",
    "    - create_database\n",
    "    - add_entry\n",
    "    - lookup_entry\n",
    "    - update_entry\n",
    "    - delete_entry\n",
    "    - clear_entries\n",
    "- GUI\n",
    "    - name_label\n",
    "    - name_entry\n",
    "    - phone_label\n",
    "    - phone_entry\n",
    "    - add_button\n",
    "    - lookup_button\n",
    "    - update_button\n",
    "    - delete_button\n",
    "    - clear_button\n",
    "\n"
   ]
  },
  {
   "cell_type": "code",
   "execution_count": null,
   "id": "1d5e376e-361e-4d4f-a691-808a72b10a73",
   "metadata": {},
   "outputs": [],
   "source": []
  }
 ],
 "metadata": {
  "kernelspec": {
   "display_name": "anaconda-panel-2023.05-py310",
   "language": "python",
   "name": "conda-env-anaconda-panel-2023.05-py310-py"
  },
  "language_info": {
   "codemirror_mode": {
    "name": "ipython",
    "version": 3
   },
   "file_extension": ".py",
   "mimetype": "text/x-python",
   "name": "python",
   "nbconvert_exporter": "python",
   "pygments_lexer": "ipython3",
   "version": "3.11.5"
  }
 },
 "nbformat": 4,
 "nbformat_minor": 5
}
