{
 "cells": [
  {
   "cell_type": "markdown",
   "id": "6566fd91-5344-4c7d-9cee-04c5a38e0ac8",
   "metadata": {},
   "source": [
    "Chapter 13"
   ]
  },
  {
   "cell_type": "markdown",
   "id": "daff382e-d2ad-4566-b6be-d7a6492f9d89",
   "metadata": {},
   "source": [
    "# Programming Excersies 5"
   ]
  },
  {
   "cell_type": "markdown",
   "id": "152c898f-d2b6-4701-a9ed-c5123ae35d2b",
   "metadata": {},
   "source": [
    "5. a county collects property taxes on the assessmemt value of property, which is 60 percent of the propertys actual value. if an acre of land is valued at $10,000, its assessment value is $6,000. the property tax is then $0.75 for each $100 of the assessment value. the tax for the acre accessed at $6,000 will be $45.0"
   ]
  }
 ],
 "metadata": {
  "kernelspec": {
   "display_name": "anaconda-panel-2023.05-py310",
   "language": "python",
   "name": "conda-env-anaconda-panel-2023.05-py310-py"
  },
  "language_info": {
   "codemirror_mode": {
    "name": "ipython",
    "version": 3
   },
   "file_extension": ".py",
   "mimetype": "text/x-python",
   "name": "python",
   "nbconvert_exporter": "python",
   "pygments_lexer": "ipython3",
   "version": "3.11.5"
  }
 },
 "nbformat": 4,
 "nbformat_minor": 5
}
