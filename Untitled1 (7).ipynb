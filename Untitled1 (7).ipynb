{
 "cells": [
  {
   "cell_type": "markdown",
   "id": "6566fd91-5344-4c7d-9cee-04c5a38e0ac8",
   "metadata": {},
   "source": [
    "Chapter 13"
   ]
  },
  {
   "cell_type": "markdown",
   "id": "daff382e-d2ad-4566-b6be-d7a6492f9d89",
   "metadata": {
    "tags": []
   },
   "source": [
    "# Programming Excersies 5"
   ]
  },
  {
   "cell_type": "markdown",
   "id": "152c898f-d2b6-4701-a9ed-c5123ae35d2b",
   "metadata": {},
   "source": [
    "5. a county collects property taxes on the assessment value of property, which is 60 percent of the property's actual value. if an acre of land is valued at $10,000, its assessment value is $6,000. the property tax is then $0.75 for each $100 of the assessment value. the tax for the acre accessed at $6,000 will be $45.00. write a GUI program that displays the assessments value and property tax when a user enters the actual value of a property."
   ]
  },
  {
   "cell_type": "code",
   "execution_count": 5,
   "id": "60a36f9b-5732-4b74-8db6-2b36585aa660",
   "metadata": {},
   "outputs": [
    {
     "ename": "TclError",
     "evalue": "no display name and no $DISPLAY environment variable",
     "output_type": "error",
     "traceback": [
      "\u001b[0;31m---------------------------------------------------------------------------\u001b[0m",
      "\u001b[0;31mTclError\u001b[0m                                  Traceback (most recent call last)",
      "Cell \u001b[0;32mIn[5], line 16\u001b[0m\n\u001b[1;32m     13\u001b[0m         assessment_value_label\u001b[38;5;241m.\u001b[39mconfig(text\u001b[38;5;241m=\u001b[39m\u001b[38;5;124m\"\u001b[39m\u001b[38;5;124mInvalid Input\u001b[39m\u001b[38;5;124m\"\u001b[39m)\n\u001b[1;32m     14\u001b[0m         property_tax_label\u001b[38;5;241m.\u001b[39mconfig(text\u001b[38;5;241m=\u001b[39m\u001b[38;5;124m\"\u001b[39m\u001b[38;5;124m\"\u001b[39m)\n\u001b[0;32m---> 16\u001b[0m root \u001b[38;5;241m=\u001b[39m tk\u001b[38;5;241m.\u001b[39mTk()\n\u001b[1;32m     17\u001b[0m root\u001b[38;5;241m.\u001b[39mtitle(\u001b[38;5;124m\"\u001b[39m\u001b[38;5;124mProperty Tax Calculator\u001b[39m\u001b[38;5;124m\"\u001b[39m)\n\u001b[1;32m     19\u001b[0m actual_value_label \u001b[38;5;241m=\u001b[39m Label(root, text\u001b[38;5;241m=\u001b[39m\u001b[38;5;124m\"\u001b[39m\u001b[38;5;124mEnter Actual Value:\u001b[39m\u001b[38;5;124m\"\u001b[39m)\n",
      "File \u001b[0;32m/opt/conda/envs/anaconda-panel-2023.05-py310/lib/python3.11/tkinter/__init__.py:2326\u001b[0m, in \u001b[0;36mTk.__init__\u001b[0;34m(self, screenName, baseName, className, useTk, sync, use)\u001b[0m\n\u001b[1;32m   2324\u001b[0m         baseName \u001b[38;5;241m=\u001b[39m baseName \u001b[38;5;241m+\u001b[39m ext\n\u001b[1;32m   2325\u001b[0m interactive \u001b[38;5;241m=\u001b[39m \u001b[38;5;28;01mFalse\u001b[39;00m\n\u001b[0;32m-> 2326\u001b[0m \u001b[38;5;28mself\u001b[39m\u001b[38;5;241m.\u001b[39mtk \u001b[38;5;241m=\u001b[39m _tkinter\u001b[38;5;241m.\u001b[39mcreate(screenName, baseName, className, interactive, wantobjects, useTk, sync, use)\n\u001b[1;32m   2327\u001b[0m \u001b[38;5;28;01mif\u001b[39;00m useTk:\n\u001b[1;32m   2328\u001b[0m     \u001b[38;5;28mself\u001b[39m\u001b[38;5;241m.\u001b[39m_loadtk()\n",
      "\u001b[0;31mTclError\u001b[0m: no display name and no $DISPLAY environment variable"
     ]
    }
   ],
   "source": [
    "import tkinter as tk\n",
    "from tkinter import Label, Entry, Button\n",
    "\n",
    "def calculate_tax():\n",
    "    try:\n",
    "        actual_value = float(actual_value_entry.get())\n",
    "        assessmentvalue = 0.6 * actual_value\n",
    "        property_tax = (assessment_value / 100) * 0.75\n",
    "        assessment_value_label.confi(text=f\"Assessment Value: ${assessment_value:,.2f}\")\n",
    "        property_tax_label.config(text=f\"Property Tax: ${property_tax:,.2f}\")\n",
    "\n",
    "    except ValueError:\n",
    "        assessment_value_label.config(text=\"Invalid Input\")\n",
    "        property_tax_label.config(text=\"\")\n",
    "\n",
    "root = tk.Tk()\n",
    "root.title(\"Property Tax Calculator\")\n",
    "\n",
    "actual_value_label = Label(root, text=\"Enter Actual Value:\")\n",
    "actual_value_label.pack(pady=10)\n",
    "\n",
    "actual_value_entry = Entry(root)\n",
    "actual.value.entry.pack(pady=10)\n",
    "\n",
    "calculate_button = Button(root, text=\"Calculate\", command=calculate_tax)\n",
    "calculate_button.pack(pady=10)\n",
    "\n",
    "assessment_value_label = Label(root, text=\"\")\n",
    "assessment_value_label.pack(pady=10)\n",
    "\n",
    "property_tax_label = Label(root, text=\"\")\n",
    "property_tax_label.pack(pady=10)\n",
    "\n",
    "root.mainloop()\n"
   ]
  },
  {
   "cell_type": "code",
   "execution_count": 7,
   "id": "27f541b3-4d0f-4440-9c86-db06a30a596d",
   "metadata": {},
   "outputs": [
    {
     "ename": "TclError",
     "evalue": "no display name and no $DISPLAY environment variable",
     "output_type": "error",
     "traceback": [
      "\u001b[0;31m---------------------------------------------------------------------------\u001b[0m",
      "\u001b[0;31mTclError\u001b[0m                                  Traceback (most recent call last)",
      "Cell \u001b[0;32mIn[7], line 16\u001b[0m\n\u001b[1;32m     13\u001b[0m         assessment_value_label\u001b[38;5;241m.\u001b[39mconfig(text\u001b[38;5;241m=\u001b[39m\u001b[38;5;124m\"\u001b[39m\u001b[38;5;124mInvalid Input\u001b[39m\u001b[38;5;124m\"\u001b[39m)\n\u001b[1;32m     14\u001b[0m         property_tax_label\u001b[38;5;241m.\u001b[39mconfig(text\u001b[38;5;241m=\u001b[39m\u001b[38;5;124m\"\u001b[39m\u001b[38;5;124m\"\u001b[39m)\n\u001b[0;32m---> 16\u001b[0m root \u001b[38;5;241m=\u001b[39m tk\u001b[38;5;241m.\u001b[39mTk()\n\u001b[1;32m     17\u001b[0m root\u001b[38;5;241m.\u001b[39mtitle(\u001b[38;5;124m\"\u001b[39m\u001b[38;5;124mProperty Tax Calculator\u001b[39m\u001b[38;5;124m\"\u001b[39m)\n\u001b[1;32m     19\u001b[0m actual_value_label \u001b[38;5;241m=\u001b[39m Label(root, text\u001b[38;5;241m=\u001b[39m\u001b[38;5;124m\"\u001b[39m\u001b[38;5;124mEnter Actual Value:\u001b[39m\u001b[38;5;124m\"\u001b[39m)\n",
      "File \u001b[0;32m/opt/conda/envs/anaconda-panel-2023.05-py310/lib/python3.11/tkinter/__init__.py:2326\u001b[0m, in \u001b[0;36mTk.__init__\u001b[0;34m(self, screenName, baseName, className, useTk, sync, use)\u001b[0m\n\u001b[1;32m   2324\u001b[0m         baseName \u001b[38;5;241m=\u001b[39m baseName \u001b[38;5;241m+\u001b[39m ext\n\u001b[1;32m   2325\u001b[0m interactive \u001b[38;5;241m=\u001b[39m \u001b[38;5;28;01mFalse\u001b[39;00m\n\u001b[0;32m-> 2326\u001b[0m \u001b[38;5;28mself\u001b[39m\u001b[38;5;241m.\u001b[39mtk \u001b[38;5;241m=\u001b[39m _tkinter\u001b[38;5;241m.\u001b[39mcreate(screenName, baseName, className, interactive, wantobjects, useTk, sync, use)\n\u001b[1;32m   2327\u001b[0m \u001b[38;5;28;01mif\u001b[39;00m useTk:\n\u001b[1;32m   2328\u001b[0m     \u001b[38;5;28mself\u001b[39m\u001b[38;5;241m.\u001b[39m_loadtk()\n",
      "\u001b[0;31mTclError\u001b[0m: no display name and no $DISPLAY environment variable"
     ]
    }
   ],
   "source": [
    "import tkinter as tk\n",
    "from tkinter import Label, Entry, Button\n",
    "\n",
    "def calculate_tax():\n",
    "    try:\n",
    "        actual_value = float(actual_value_entry.get())\n",
    "        assessmentvalue = 0.6 * actual_value\n",
    "        property_tax = (assessment_value / 100) * 0.75\n",
    "        assessment_value_label.config(text=f\"Assessment Value: ${assessment_value:,.2f}\")\n",
    "        property_tax_label.config(text=f\"Property Tax: ${property_tax:,.2f}\")\n",
    "\n",
    "    except ValueError:\n",
    "        assessment_value_label.config(text=\"Invalid Input\")\n",
    "        property_tax_label.config(text=\"\")\n",
    "\n",
    "root = tk.Tk()\n",
    "root.title(\"Property Tax Calculator\")\n",
    "\n",
    "actual_value_label = Label(root, text=\"Enter Actual Value:\")\n",
    "actual_value_label.pack(pady=10)\n",
    "\n",
    "actual_value_entry = Entry(root)\n",
    "actual.value.entry.pack(pady=10)\n",
    "\n",
    "calculate_button = Button(root, text=\"Calculate\", command=calculate_tax)\n",
    "calculate_button.pack(pady=10)\n",
    "\n",
    "assessment_value_label = Label(root, text=\"\")\n",
    "assessment_value_label.pack(pady=10)\n",
    "\n",
    "property_tax_label = Label(root, text=\"\")\n",
    "property_tax_label.pack(pady=10)\n",
    "\n",
    "root.mainloop()\n"
   ]
  },
  {
   "cell_type": "code",
   "execution_count": null,
   "id": "e3cf3d80-0a14-4a24-a7f5-2d4b1732abd9",
   "metadata": {},
   "outputs": [],
   "source": []
  }
 ],
 "metadata": {
  "kernelspec": {
   "display_name": "anaconda-panel-2023.05-py310",
   "language": "python",
   "name": "conda-env-anaconda-panel-2023.05-py310-py"
  },
  "language_info": {
   "codemirror_mode": {
    "name": "ipython",
    "version": 3
   },
   "file_extension": ".py",
   "mimetype": "text/x-python",
   "name": "python",
   "nbconvert_exporter": "python",
   "pygments_lexer": "ipython3",
   "version": "3.11.5"
  }
 },
 "nbformat": 4,
 "nbformat_minor": 5
}
